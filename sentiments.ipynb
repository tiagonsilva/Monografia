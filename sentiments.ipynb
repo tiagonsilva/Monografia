{
 "cells": [
  {
   "cell_type": "code",
   "execution_count": 1,
   "id": "51049f42",
   "metadata": {},
   "outputs": [],
   "source": [
    "import pandas as pd\n",
    "from transformers import pipeline, AutoTokenizer, BertForSequenceClassification\n",
    "import numpy as np"
   ]
  },
  {
   "cell_type": "code",
   "execution_count": 2,
   "id": "7cdfe478",
   "metadata": {},
   "outputs": [
    {
     "data": {
      "text/html": [
       "<div>\n",
       "<style scoped>\n",
       "    .dataframe tbody tr th:only-of-type {\n",
       "        vertical-align: middle;\n",
       "    }\n",
       "\n",
       "    .dataframe tbody tr th {\n",
       "        vertical-align: top;\n",
       "    }\n",
       "\n",
       "    .dataframe thead th {\n",
       "        text-align: right;\n",
       "    }\n",
       "</style>\n",
       "<table border=\"1\" class=\"dataframe\">\n",
       "  <thead>\n",
       "    <tr style=\"text-align: right;\">\n",
       "      <th></th>\n",
       "      <th>sentence</th>\n",
       "      <th>year</th>\n",
       "      <th>link</th>\n",
       "      <th>source</th>\n",
       "    </tr>\n",
       "  </thead>\n",
       "  <tbody>\n",
       "    <tr>\n",
       "      <th>0</th>\n",
       "      <td>Veja o exemplo das urnas eletrônicas</td>\n",
       "      <td>2023</td>\n",
       "      <td>https://www1.folha.uol.com.br/mercado/2023/04/...</td>\n",
       "      <td>Folha de São Paulo</td>\n",
       "    </tr>\n",
       "    <tr>\n",
       "      <th>1</th>\n",
       "      <td>Pela segunda vez na história, os acadêmicos v...</td>\n",
       "      <td>2023</td>\n",
       "      <td>https://www1.folha.uol.com.br/ilustrada/2023/0...</td>\n",
       "      <td>Folha de São Paulo</td>\n",
       "    </tr>\n",
       "    <tr>\n",
       "      <th>2</th>\n",
       "      <td>Conforme antecipado por sua defesa nesta quar...</td>\n",
       "      <td>2023</td>\n",
       "      <td>https://www1.folha.uol.com.br/poder/2023/04/bo...</td>\n",
       "      <td>Folha de São Paulo</td>\n",
       "    </tr>\n",
       "    <tr>\n",
       "      <th>3</th>\n",
       "      <td>Bolsonaro disse ter postado por engano, sob e...</td>\n",
       "      <td>2023</td>\n",
       "      <td>https://www1.folha.uol.com.br/opiniao/2023/04/...</td>\n",
       "      <td>Folha de São Paulo</td>\n",
       "    </tr>\n",
       "    <tr>\n",
       "      <th>4</th>\n",
       "      <td>Não apagará o fato, no entanto, de que o punh...</td>\n",
       "      <td>2023</td>\n",
       "      <td>https://www1.folha.uol.com.br/opiniao/2023/04/...</td>\n",
       "      <td>Folha de São Paulo</td>\n",
       "    </tr>\n",
       "  </tbody>\n",
       "</table>\n",
       "</div>"
      ],
      "text/plain": [
       "                                            sentence  year  \\\n",
       "0               Veja o exemplo das urnas eletrônicas  2023   \n",
       "1   Pela segunda vez na história, os acadêmicos v...  2023   \n",
       "2   Conforme antecipado por sua defesa nesta quar...  2023   \n",
       "3   Bolsonaro disse ter postado por engano, sob e...  2023   \n",
       "4   Não apagará o fato, no entanto, de que o punh...  2023   \n",
       "\n",
       "                                                link              source  \n",
       "0  https://www1.folha.uol.com.br/mercado/2023/04/...  Folha de São Paulo  \n",
       "1  https://www1.folha.uol.com.br/ilustrada/2023/0...  Folha de São Paulo  \n",
       "2  https://www1.folha.uol.com.br/poder/2023/04/bo...  Folha de São Paulo  \n",
       "3  https://www1.folha.uol.com.br/opiniao/2023/04/...  Folha de São Paulo  \n",
       "4  https://www1.folha.uol.com.br/opiniao/2023/04/...  Folha de São Paulo  "
      ]
     },
     "execution_count": 2,
     "metadata": {},
     "output_type": "execute_result"
    }
   ],
   "source": [
    "df = pd.read_csv('data.csv')\n",
    "df.head()"
   ]
  },
  {
   "cell_type": "code",
   "execution_count": 3,
   "id": "0b13a9ff",
   "metadata": {},
   "outputs": [
    {
     "name": "stderr",
     "output_type": "stream",
     "text": [
      "WARNING[XFORMERS]: xFormers can't load C++/CUDA extensions. xFormers was built for:\n",
      "    PyTorch 2.0.1+cu118 with CUDA 1108 (you have 2.0.1+cpu)\n",
      "    Python  3.10.11 (you have 3.10.9)\n",
      "  Please reinstall xformers (see https://github.com/facebookresearch/xformers#installing-xformers)\n",
      "  Memory-efficient attention, SwiGLU, sparse and more won't be available.\n",
      "  Set XFORMERS_MORE_DETAILS=1 for more details\n"
     ]
    }
   ],
   "source": [
    "model_path = \"cardiffnlp/twitter-xlm-roberta-base-sentiment\"\n",
    "sentiment_task = pipeline(\"sentiment-analysis\", model=model_path, tokenizer=model_path)\n",
    "\n",
    "def sentiment_cardiff(sentence):\n",
    "    try:\n",
    "        sentiment = sentiment_task(sentence)[0]['label']\n",
    "    except RuntimeError:\n",
    "        sentiment = None\n",
    "    return sentiment"
   ]
  },
  {
   "cell_type": "code",
   "execution_count": 4,
   "id": "5501b4d1",
   "metadata": {},
   "outputs": [],
   "source": [
    "distilled_student_sentiment_classifier = pipeline(\n",
    "    model=\"lxyuan/distilbert-base-multilingual-cased-sentiments-student\", \n",
    "    top_k=None\n",
    ")\n",
    "\n",
    "def sentiment_distilbert(sentence):\n",
    "    try:\n",
    "        sentiment = distilled_student_sentiment_classifier(sentence)[0][0]['label']\n",
    "    except RuntimeError:\n",
    "        sentiment = None\n",
    "    return sentiment"
   ]
  },
  {
   "cell_type": "code",
   "execution_count": 5,
   "id": "23b6371a",
   "metadata": {},
   "outputs": [],
   "source": [
    "pred_mapper = {\n",
    "    0: \"positive\",\n",
    "    1: \"negative\",\n",
    "    2: \"neutral\"\n",
    "  }\n",
    "\n",
    "tokenizer = AutoTokenizer.from_pretrained(\"lucas-leme/FinBERT-PT-BR\")\n",
    "finbertptbr = BertForSequenceClassification.from_pretrained(\"lucas-leme/FinBERT-PT-BR\")\n",
    "\n",
    "def sentiment_finbert(sentence):\n",
    "    try:\n",
    "        tokens = tokenizer(sentence, return_tensors=\"pt\",\n",
    "                    padding=True, truncation=True, max_length=512)\n",
    "        finbertptbr_outputs = finbertptbr(**tokens)\n",
    "        preds = [pred_mapper[np.argmax(pred)] for pred in finbertptbr_outputs.logits.cpu().detach().numpy()]\n",
    "        sentiment = preds[0]\n",
    "    except RuntimeError:\n",
    "        sentiment = None\n",
    "    return sentiment"
   ]
  },
  {
   "cell_type": "code",
   "execution_count": 6,
   "id": "b7fa13e2",
   "metadata": {},
   "outputs": [],
   "source": [
    "model_path = \"citizenlab/twitter-xlm-roberta-base-sentiment-finetunned\"\n",
    "\n",
    "sentiment_classifier = pipeline(\"text-classification\", model=model_path, tokenizer=model_path)\n",
    "\n",
    "def sentiment_citizenlab(sentence):\n",
    "    try:\n",
    "        sentiment = sentiment_classifier(sentence)[0]['label']\n",
    "    except RuntimeError:\n",
    "        sentiment = None\n",
    "    return sentiment"
   ]
  },
  {
   "cell_type": "code",
   "execution_count": 7,
   "id": "134387a2",
   "metadata": {},
   "outputs": [
    {
     "name": "stderr",
     "output_type": "stream",
     "text": [
      "Token indices sequence length is longer than the specified maximum sequence length for this model (4554 > 512). Running this sequence through the model will result in indexing errors\n"
     ]
    }
   ],
   "source": [
    "df['cardiff'] = df['sentence'].apply(sentiment_cardiff)\n",
    "df['distilbert'] = df['sentence'].apply(sentiment_distilbert)\n",
    "df['finbert'] = df['sentence'].apply(sentiment_finbert)\n",
    "df['citizenlab'] = df['sentence'].apply(sentiment_citizenlab)"
   ]
  },
  {
   "cell_type": "code",
   "execution_count": 8,
   "id": "c12b1bad",
   "metadata": {},
   "outputs": [],
   "source": [
    "df.to_csv('sentiments.csv', index = False)"
   ]
  }
 ],
 "metadata": {
  "kernelspec": {
   "display_name": "Python 3 (ipykernel)",
   "language": "python",
   "name": "python3"
  },
  "language_info": {
   "codemirror_mode": {
    "name": "ipython",
    "version": 3
   },
   "file_extension": ".py",
   "mimetype": "text/x-python",
   "name": "python",
   "nbconvert_exporter": "python",
   "pygments_lexer": "ipython3",
   "version": "3.10.9"
  }
 },
 "nbformat": 4,
 "nbformat_minor": 5
}
